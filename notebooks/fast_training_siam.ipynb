{
  "nbformat": 4,
  "nbformat_minor": 0,
  "metadata": {
    "colab": {
      "provenance": []
    },
    "kernelspec": {
      "name": "python3",
      "display_name": "Python 3"
    },
    "language_info": {
      "name": "python"
    },
    "gpuClass": "standard"
  },
  "cells": [
    {
      "cell_type": "code",
      "execution_count": 1,
      "metadata": {
        "colab": {
          "base_uri": "https://localhost:8080/"
        },
        "id": "nDKiq5nP6iiR",
        "outputId": "fb445e98-d48f-4a2c-eadc-257a4cdb8f4c"
      },
      "outputs": [
        {
          "output_type": "stream",
          "name": "stdout",
          "text": [
            "Looking in indexes: https://pypi.org/simple, https://us-python.pkg.dev/colab-wheels/public/simple/\n",
            "Processing ./siameseFastTraining-0.1.3-py3-none-any.whl\n",
            "Requirement already satisfied: Pillow in /usr/local/lib/python3.9/dist-packages (from siameseFastTraining==0.1.3) (8.4.0)\n",
            "Requirement already satisfied: torch in /usr/local/lib/python3.9/dist-packages (from siameseFastTraining==0.1.3) (2.0.0+cu118)\n",
            "Requirement already satisfied: numpy in /usr/local/lib/python3.9/dist-packages (from siameseFastTraining==0.1.3) (1.22.4)\n",
            "Requirement already satisfied: tqdm in /usr/local/lib/python3.9/dist-packages (from siameseFastTraining==0.1.3) (4.65.0)\n",
            "Requirement already satisfied: efficientnet-pytorch in /usr/local/lib/python3.9/dist-packages (from siameseFastTraining==0.1.3) (0.7.1)\n",
            "Requirement already satisfied: torchvision in /usr/local/lib/python3.9/dist-packages (from siameseFastTraining==0.1.3) (0.15.1+cu118)\n",
            "Requirement already satisfied: triton==2.0.0 in /usr/local/lib/python3.9/dist-packages (from torch->siameseFastTraining==0.1.3) (2.0.0)\n",
            "Requirement already satisfied: filelock in /usr/local/lib/python3.9/dist-packages (from torch->siameseFastTraining==0.1.3) (3.11.0)\n",
            "Requirement already satisfied: typing-extensions in /usr/local/lib/python3.9/dist-packages (from torch->siameseFastTraining==0.1.3) (4.5.0)\n",
            "Requirement already satisfied: sympy in /usr/local/lib/python3.9/dist-packages (from torch->siameseFastTraining==0.1.3) (1.11.1)\n",
            "Requirement already satisfied: jinja2 in /usr/local/lib/python3.9/dist-packages (from torch->siameseFastTraining==0.1.3) (3.1.2)\n",
            "Requirement already satisfied: networkx in /usr/local/lib/python3.9/dist-packages (from torch->siameseFastTraining==0.1.3) (3.1)\n",
            "Requirement already satisfied: lit in /usr/local/lib/python3.9/dist-packages (from triton==2.0.0->torch->siameseFastTraining==0.1.3) (16.0.1)\n",
            "Requirement already satisfied: cmake in /usr/local/lib/python3.9/dist-packages (from triton==2.0.0->torch->siameseFastTraining==0.1.3) (3.25.2)\n",
            "Requirement already satisfied: requests in /usr/local/lib/python3.9/dist-packages (from torchvision->siameseFastTraining==0.1.3) (2.27.1)\n",
            "Requirement already satisfied: MarkupSafe>=2.0 in /usr/local/lib/python3.9/dist-packages (from jinja2->torch->siameseFastTraining==0.1.3) (2.1.2)\n",
            "Requirement already satisfied: urllib3<1.27,>=1.21.1 in /usr/local/lib/python3.9/dist-packages (from requests->torchvision->siameseFastTraining==0.1.3) (1.26.15)\n",
            "Requirement already satisfied: idna<4,>=2.5 in /usr/local/lib/python3.9/dist-packages (from requests->torchvision->siameseFastTraining==0.1.3) (3.4)\n",
            "Requirement already satisfied: charset-normalizer~=2.0.0 in /usr/local/lib/python3.9/dist-packages (from requests->torchvision->siameseFastTraining==0.1.3) (2.0.12)\n",
            "Requirement already satisfied: certifi>=2017.4.17 in /usr/local/lib/python3.9/dist-packages (from requests->torchvision->siameseFastTraining==0.1.3) (2022.12.7)\n",
            "Requirement already satisfied: mpmath>=0.19 in /usr/local/lib/python3.9/dist-packages (from sympy->torch->siameseFastTraining==0.1.3) (1.3.0)\n",
            "siameseFastTraining is already installed with the same version as the provided wheel. Use --force-reinstall to force an installation of the wheel.\n"
          ]
        }
      ],
      "source": [
        "!pip install /content/siameseFastTraining-0.1.3-py3-none-any.whl"
      ]
    },
    {
      "cell_type": "code",
      "source": [
        "import os\n",
        "import random\n",
        "from torchvision import transforms\n",
        "from PIL import Image\n",
        "import torch\n",
        "from torch.utils.data import Dataset\n",
        "from torch.utils.data import DataLoader\n",
        "import torch.nn as nn\n",
        "import torch.optim as optim\n",
        "import torch.nn.init as init\n",
        "import matplotlib.pyplot as plt\n",
        "import numpy as np\n",
        "import pandas as pd\n",
        "from tqdm import tqdm\n",
        "from sklearn.metrics import roc_auc_score, roc_curve\n",
        "from efficientnet_pytorch import EfficientNet\n",
        "from collections import Counter\n",
        "\n",
        "from siameseFastTraining.SiameseNetworks import TripletDataset, EfficientNetFeatureExtractor, SiameseNetwork, Trainer\n",
        "from siameseFastTraining.LossFunctions import TripletLoss\n",
        "from siameseFastTraining.utils import count_trainable_parameters"
      ],
      "metadata": {
        "id": "VVpMsMs46vrj"
      },
      "execution_count": 2,
      "outputs": []
    },
    {
      "cell_type": "code",
      "source": [
        "from google.colab import drive\n",
        "drive.mount('/content/drive')"
      ],
      "metadata": {
        "colab": {
          "base_uri": "https://localhost:8080/"
        },
        "id": "34pgcToN7in9",
        "outputId": "b7413f50-fd25-4a45-e8ac-bc326b334f73"
      },
      "execution_count": 3,
      "outputs": [
        {
          "output_type": "stream",
          "name": "stdout",
          "text": [
            "Drive already mounted at /content/drive; to attempt to forcibly remount, call drive.mount(\"/content/drive\", force_remount=True).\n"
          ]
        }
      ]
    },
    {
      "cell_type": "code",
      "source": [
        "device = \"cuda\" if torch.cuda.is_available() else \"cpu\""
      ],
      "metadata": {
        "id": "V2CUVaRS9DfS"
      },
      "execution_count": 14,
      "outputs": []
    },
    {
      "cell_type": "markdown",
      "source": [
        "### Bit of testing...."
      ],
      "metadata": {
        "id": "m-ekgcrn8xEt"
      }
    },
    {
      "cell_type": "code",
      "source": [
        "train_dataset = TripletDataset(root_dir=\"/content/drive/MyDrive/ULTRADATA/Motos_reencuadradas/Train\", transform=None)"
      ],
      "metadata": {
        "id": "q1FcprLE8hiv"
      },
      "execution_count": 4,
      "outputs": []
    },
    {
      "cell_type": "code",
      "source": [
        "train_dataset.get_subject_image_path(0)"
      ],
      "metadata": {
        "colab": {
          "base_uri": "https://localhost:8080/"
        },
        "id": "pT7v1hga8zjK",
        "outputId": "96c7b549-d4a1-44e2-aafc-c0e24607a323"
      },
      "execution_count": 5,
      "outputs": [
        {
          "output_type": "execute_result",
          "data": {
            "text/plain": [
              "('14',\n",
              " '/content/drive/MyDrive/ULTRADATA/Motos_reencuadradas/Train/14/032423001682.JPG')"
            ]
          },
          "metadata": {},
          "execution_count": 5
        }
      ]
    },
    {
      "cell_type": "code",
      "source": [
        "train_dataset.get_positive_image('14', '/content/drive/MyDrive/ULTRADATA/Motos_reencuadradas/Train/14/032423001682.JPG')"
      ],
      "metadata": {
        "colab": {
          "base_uri": "https://localhost:8080/",
          "height": 35
        },
        "id": "rb5ubjTT82bB",
        "outputId": "c50d1d1d-982f-49c9-b0d0-c6359f10c741"
      },
      "execution_count": 6,
      "outputs": [
        {
          "output_type": "execute_result",
          "data": {
            "text/plain": [
              "'/content/drive/MyDrive/ULTRADATA/Motos_reencuadradas/Train/14/032423001681.JPG'"
            ],
            "application/vnd.google.colaboratory.intrinsic+json": {
              "type": "string"
            }
          },
          "metadata": {},
          "execution_count": 6
        }
      ]
    },
    {
      "cell_type": "markdown",
      "source": [
        "# Create the Siamese Datasets"
      ],
      "metadata": {
        "id": "dby-VI6987lZ"
      }
    },
    {
      "cell_type": "markdown",
      "source": [
        "## Dataset"
      ],
      "metadata": {
        "id": "S9l_yzQ89IEy"
      }
    },
    {
      "cell_type": "code",
      "source": [
        "img_size = 224\n",
        "\n",
        "train_imgs_path = \"/content/drive/MyDrive/ULTRADATA/Motos_reencuadradas/Train\"\n",
        "test_imgs_path  = \"/content/drive/MyDrive/ULTRADATA/Motos_reencuadradas/Test\"\n",
        "\n",
        "transform_train = transforms.Compose([\n",
        "  transforms.Resize((img_size, img_size)),\n",
        "  transforms.RandomHorizontalFlip(),\n",
        "  transforms.RandomRotation(15),\n",
        "  transforms.ToTensor(),\n",
        "  transforms.Normalize(mean=[0.485, 0.456, 0.406], std=[0.229, 0.224, 0.225])\n",
        "  # , transforms.ColorJitter(brightness=0.1, contrast=0.1, saturation=0.1, hue=0.1)\n",
        "])\n",
        "\n",
        "transform_valid = transforms.Compose([\n",
        "    transforms.Resize((img_size, img_size)), # transforms.Resize((224, 224)),\n",
        "    transforms.ToTensor(),\n",
        "    transforms.Normalize(mean=[0.485, 0.456, 0.406], std=[0.229, 0.224, 0.225]),\n",
        "])\n",
        "\n",
        "\n",
        "siamese_train_dataset = TripletDataset(root_dir=train_imgs_path, transform=transform_train)\n",
        "siamese_test_dataset = TripletDataset(root_dir=test_imgs_path, transform=transform_valid)"
      ],
      "metadata": {
        "id": "jy9q7rOc84ne"
      },
      "execution_count": 15,
      "outputs": []
    },
    {
      "cell_type": "markdown",
      "source": [
        "## DataLoader"
      ],
      "metadata": {
        "id": "JZLFi6H99JnT"
      }
    },
    {
      "cell_type": "code",
      "source": [
        "batch_size = 32\n",
        "shuffle = True\n",
        "num_workers = 2\n",
        "\n",
        "siamese_train_dataloader = DataLoader(siamese_train_dataset, batch_size=batch_size, shuffle=shuffle, num_workers=num_workers)\n",
        "siamese_val_dataloader   = DataLoader(siamese_test_dataset, batch_size=batch_size, shuffle=shuffle, num_workers=num_workers)"
      ],
      "metadata": {
        "id": "Jx98yPxm9EWI"
      },
      "execution_count": 16,
      "outputs": []
    },
    {
      "cell_type": "markdown",
      "source": [
        "# Creating Neural Network"
      ],
      "metadata": {
        "id": "gre0Q1hr9NSI"
      }
    },
    {
      "cell_type": "markdown",
      "source": [
        "## Feature Extractor"
      ],
      "metadata": {
        "id": "4U4q3NeC9P6M"
      }
    },
    {
      "cell_type": "code",
      "source": [
        "feature_extractor = EfficientNetFeatureExtractor(model_name='efficientnet-b0', pretrained=True)\n",
        "feature_extractor = feature_extractor.to(device)"
      ],
      "metadata": {
        "colab": {
          "base_uri": "https://localhost:8080/"
        },
        "id": "0eBQVC_t9K6X",
        "outputId": "bb059341-783f-454c-9b60-010fff52bdbb"
      },
      "execution_count": 17,
      "outputs": [
        {
          "output_type": "stream",
          "name": "stdout",
          "text": [
            "Loaded pretrained weights for efficientnet-b0\n"
          ]
        }
      ]
    },
    {
      "cell_type": "markdown",
      "source": [
        "## Siamese Network"
      ],
      "metadata": {
        "id": "9eeKlzHj9XYN"
      }
    },
    {
      "cell_type": "code",
      "source": [
        "siamese_network = SiameseNetwork(\n",
        "    feature_extractor=feature_extractor, \n",
        "    model_name=\"EfficientNet\", \n",
        "    init_method=None, \n",
        "    batch_norm=None, \n",
        "    learning_rate=1e-4, \n",
        "    epochs=20, \n",
        "    dataset=\"Motos_recortes\", \n",
        "    loss_function=\"triplet_loss\", \n",
        "    accuracy_threshold=0.5, \n",
        "    img_size=img_size\n",
        ")\n",
        "\n",
        "n_params = count_trainable_parameters(siamese_network)\n",
        "print(f\"Model's trainable parameters: {n_params}\")"
      ],
      "metadata": {
        "colab": {
          "base_uri": "https://localhost:8080/"
        },
        "id": "3ul4rPPm9WFG",
        "outputId": "84fa757d-734f-4566-8e31-f5cb1823899d"
      },
      "execution_count": 18,
      "outputs": [
        {
          "output_type": "stream",
          "name": "stdout",
          "text": [
            "Model's trainable parameters: 328448\n"
          ]
        }
      ]
    },
    {
      "cell_type": "markdown",
      "source": [
        "## Loss Function"
      ],
      "metadata": {
        "id": "c8VXyaXt9o1g"
      }
    },
    {
      "cell_type": "code",
      "source": [
        "loss_function = TripletLoss()\n",
        "\n",
        "optimizer = optim.Adam(filter(lambda p: p.requires_grad, siamese_network.parameters()), lr=siamese_network.learning_rate)"
      ],
      "metadata": {
        "id": "8t10D9D09bvj"
      },
      "execution_count": 19,
      "outputs": []
    },
    {
      "cell_type": "markdown",
      "source": [
        "# Training the model"
      ],
      "metadata": {
        "id": "M1Afq4Au92UN"
      }
    },
    {
      "cell_type": "code",
      "source": [
        "trainer = Trainer(\n",
        "    siamese_network, \n",
        "    model_name = siamese_network.name,\n",
        "    init_method = \"None\",\n",
        "    batch_norm = siamese_network.batch_norm,\n",
        "    learning_rate = siamese_network.learning_rate,\n",
        "    epochs = 50, \n",
        "    dataset = siamese_network.dataset,\n",
        "    img_size = siamese_network.img_size,\n",
        "    optimizer = optimizer,\n",
        "    loss_function = loss_function\n",
        ")"
      ],
      "metadata": {
        "id": "_DCsemwR9yTy"
      },
      "execution_count": 20,
      "outputs": []
    },
    {
      "cell_type": "code",
      "source": [
        "trainer.train(siamese_train_dataloader, siamese_val_dataloader)"
      ],
      "metadata": {
        "colab": {
          "base_uri": "https://localhost:8080/"
        },
        "id": "C57zjV23-nj1",
        "outputId": "fc2c49e9-8aac-4ea3-d00a-7741bb4db5a3"
      },
      "execution_count": 21,
      "outputs": [
        {
          "output_type": "stream",
          "name": "stderr",
          "text": [
            "Training: 100%|██████████| 10/10 [00:28<00:00,  2.81s/it]\n",
            "Validation: 100%|██████████| 2/2 [00:15<00:00,  7.70s/it]"
          ]
        },
        {
          "output_type": "stream",
          "name": "stdout",
          "text": [
            "Epoch: 0, Train Loss: 21.0841, Train Accuracy: 0.6781, Val Loss: 7.9301, Val Accuracy: 0.8117\n"
          ]
        },
        {
          "output_type": "stream",
          "name": "stderr",
          "text": [
            "\n",
            "Training: 100%|██████████| 10/10 [00:23<00:00,  2.31s/it]\n",
            "Validation: 100%|██████████| 2/2 [00:05<00:00,  3.00s/it]"
          ]
        },
        {
          "output_type": "stream",
          "name": "stdout",
          "text": [
            "Epoch: 1, Train Loss: 18.3530, Train Accuracy: 0.7094, Val Loss: 13.3267, Val Accuracy: 0.8536\n"
          ]
        },
        {
          "output_type": "stream",
          "name": "stderr",
          "text": [
            "\n",
            "Training: 100%|██████████| 10/10 [00:26<00:00,  2.63s/it]\n",
            "Validation: 100%|██████████| 2/2 [00:04<00:00,  2.29s/it]\n"
          ]
        },
        {
          "output_type": "stream",
          "name": "stdout",
          "text": [
            "Epoch: 2, Train Loss: 19.4642, Train Accuracy: 0.6969, Val Loss: 21.2539, Val Accuracy: 0.8429\n"
          ]
        },
        {
          "output_type": "stream",
          "name": "stderr",
          "text": [
            "Training: 100%|██████████| 10/10 [00:24<00:00,  2.48s/it]\n",
            "Validation: 100%|██████████| 2/2 [00:04<00:00,  2.12s/it]\n"
          ]
        },
        {
          "output_type": "stream",
          "name": "stdout",
          "text": [
            "Epoch: 3, Train Loss: 19.8233, Train Accuracy: 0.7188, Val Loss: 24.7296, Val Accuracy: 0.7541\n"
          ]
        },
        {
          "output_type": "stream",
          "name": "stderr",
          "text": [
            "Training: 100%|██████████| 10/10 [00:25<00:00,  2.54s/it]\n",
            "Validation: 100%|██████████| 2/2 [00:04<00:00,  2.01s/it]\n"
          ]
        },
        {
          "output_type": "stream",
          "name": "stdout",
          "text": [
            "Epoch: 4, Train Loss: 21.6519, Train Accuracy: 0.7188, Val Loss: 7.9702, Val Accuracy: 0.8429\n"
          ]
        },
        {
          "output_type": "stream",
          "name": "stderr",
          "text": [
            "Training: 100%|██████████| 10/10 [00:26<00:00,  2.61s/it]\n",
            "Validation: 100%|██████████| 2/2 [00:04<00:00,  2.11s/it]\n"
          ]
        },
        {
          "output_type": "stream",
          "name": "stdout",
          "text": [
            "Epoch: 5, Train Loss: 19.6806, Train Accuracy: 0.7281, Val Loss: 6.9415, Val Accuracy: 0.8898\n"
          ]
        },
        {
          "output_type": "stream",
          "name": "stderr",
          "text": [
            "Training: 100%|██████████| 10/10 [00:25<00:00,  2.55s/it]\n",
            "Validation: 100%|██████████| 2/2 [00:03<00:00,  2.00s/it]\n"
          ]
        },
        {
          "output_type": "stream",
          "name": "stdout",
          "text": [
            "Epoch: 6, Train Loss: 16.2479, Train Accuracy: 0.7937, Val Loss: 14.1203, Val Accuracy: 0.8380\n"
          ]
        },
        {
          "output_type": "stream",
          "name": "stderr",
          "text": [
            "Training: 100%|██████████| 10/10 [00:25<00:00,  2.54s/it]\n",
            "Validation: 100%|██████████| 2/2 [00:04<00:00,  2.02s/it]\n"
          ]
        },
        {
          "output_type": "stream",
          "name": "stdout",
          "text": [
            "Epoch: 7, Train Loss: 15.4824, Train Accuracy: 0.7719, Val Loss: 8.5181, Val Accuracy: 0.8742\n"
          ]
        },
        {
          "output_type": "stream",
          "name": "stderr",
          "text": [
            "Training: 100%|██████████| 10/10 [00:25<00:00,  2.57s/it]\n",
            "Validation: 100%|██████████| 2/2 [00:04<00:00,  2.07s/it]"
          ]
        },
        {
          "output_type": "stream",
          "name": "stdout",
          "text": [
            "Epoch: 8, Train Loss: 14.3825, Train Accuracy: 0.8031, Val Loss: 4.5123, Val Accuracy: 0.8956\n"
          ]
        },
        {
          "output_type": "stream",
          "name": "stderr",
          "text": [
            "\n",
            "Training: 100%|██████████| 10/10 [00:25<00:00,  2.51s/it]\n",
            "Validation: 100%|██████████| 2/2 [00:04<00:00,  2.34s/it]"
          ]
        },
        {
          "output_type": "stream",
          "name": "stdout",
          "text": [
            "Epoch: 9, Train Loss: 19.5005, Train Accuracy: 0.7781, Val Loss: 8.9486, Val Accuracy: 0.8322\n"
          ]
        },
        {
          "output_type": "stream",
          "name": "stderr",
          "text": [
            "\n",
            "Training: 100%|██████████| 10/10 [00:24<00:00,  2.48s/it]\n",
            "Validation: 100%|██████████| 2/2 [00:05<00:00,  2.90s/it]\n"
          ]
        },
        {
          "output_type": "stream",
          "name": "stdout",
          "text": [
            "Epoch: 10, Train Loss: 18.2512, Train Accuracy: 0.7750, Val Loss: 7.1412, Val Accuracy: 0.8742\n"
          ]
        },
        {
          "output_type": "stream",
          "name": "stderr",
          "text": [
            "Training: 100%|██████████| 10/10 [00:23<00:00,  2.31s/it]\n",
            "Validation: 100%|██████████| 2/2 [00:05<00:00,  2.97s/it]"
          ]
        },
        {
          "output_type": "stream",
          "name": "stdout",
          "text": [
            "Epoch: 11, Train Loss: 12.1061, Train Accuracy: 0.7969, Val Loss: 5.6761, Val Accuracy: 0.9005\n"
          ]
        },
        {
          "output_type": "stream",
          "name": "stderr",
          "text": [
            "\n",
            "Training: 100%|██████████| 10/10 [00:24<00:00,  2.45s/it]\n",
            "Validation: 100%|██████████| 2/2 [00:05<00:00,  2.54s/it]"
          ]
        },
        {
          "output_type": "stream",
          "name": "stdout",
          "text": [
            "Epoch: 12, Train Loss: 12.2306, Train Accuracy: 0.7937, Val Loss: 9.9962, Val Accuracy: 0.8322\n"
          ]
        },
        {
          "output_type": "stream",
          "name": "stderr",
          "text": [
            "\n",
            "Training: 100%|██████████| 10/10 [00:24<00:00,  2.50s/it]\n",
            "Validation: 100%|██████████| 2/2 [00:04<00:00,  2.11s/it]\n"
          ]
        },
        {
          "output_type": "stream",
          "name": "stdout",
          "text": [
            "Epoch: 13, Train Loss: 13.4341, Train Accuracy: 0.7719, Val Loss: 9.3239, Val Accuracy: 0.8273\n"
          ]
        },
        {
          "output_type": "stream",
          "name": "stderr",
          "text": [
            "Training: 100%|██████████| 10/10 [00:25<00:00,  2.50s/it]\n",
            "Validation: 100%|██████████| 2/2 [00:04<00:00,  2.06s/it]\n"
          ]
        },
        {
          "output_type": "stream",
          "name": "stdout",
          "text": [
            "Epoch: 14, Train Loss: 11.7572, Train Accuracy: 0.8094, Val Loss: 8.2513, Val Accuracy: 0.8273\n"
          ]
        },
        {
          "output_type": "stream",
          "name": "stderr",
          "text": [
            "Training: 100%|██████████| 10/10 [00:24<00:00,  2.45s/it]\n",
            "Validation: 100%|██████████| 2/2 [00:03<00:00,  1.97s/it]\n"
          ]
        },
        {
          "output_type": "stream",
          "name": "stdout",
          "text": [
            "Epoch: 15, Train Loss: 12.9763, Train Accuracy: 0.8000, Val Loss: 3.7010, Val Accuracy: 0.9375\n"
          ]
        },
        {
          "output_type": "stream",
          "name": "stderr",
          "text": [
            "Training: 100%|██████████| 10/10 [00:24<00:00,  2.46s/it]\n",
            "Validation: 100%|██████████| 2/2 [00:04<00:00,  2.04s/it]"
          ]
        },
        {
          "output_type": "stream",
          "name": "stdout",
          "text": [
            "Epoch: 16, Train Loss: 12.0095, Train Accuracy: 0.8187, Val Loss: 7.1545, Val Accuracy: 0.8479\n"
          ]
        },
        {
          "output_type": "stream",
          "name": "stderr",
          "text": [
            "\n",
            "Training: 100%|██████████| 10/10 [00:25<00:00,  2.54s/it]\n",
            "Validation: 100%|██████████| 2/2 [00:03<00:00,  1.96s/it]\n"
          ]
        },
        {
          "output_type": "stream",
          "name": "stdout",
          "text": [
            "Epoch: 17, Train Loss: 10.7436, Train Accuracy: 0.8250, Val Loss: 3.2060, Val Accuracy: 0.8692\n"
          ]
        },
        {
          "output_type": "stream",
          "name": "stderr",
          "text": [
            "Training: 100%|██████████| 10/10 [00:25<00:00,  2.52s/it]\n",
            "Validation: 100%|██████████| 2/2 [00:04<00:00,  2.10s/it]\n"
          ]
        },
        {
          "output_type": "stream",
          "name": "stdout",
          "text": [
            "Epoch: 18, Train Loss: 10.6508, Train Accuracy: 0.8187, Val Loss: 12.2296, Val Accuracy: 0.8166\n"
          ]
        },
        {
          "output_type": "stream",
          "name": "stderr",
          "text": [
            "Training: 100%|██████████| 10/10 [00:25<00:00,  2.51s/it]\n",
            "Validation: 100%|██████████| 2/2 [00:03<00:00,  1.98s/it]\n"
          ]
        },
        {
          "output_type": "stream",
          "name": "stdout",
          "text": [
            "Epoch: 19, Train Loss: 9.8484, Train Accuracy: 0.8344, Val Loss: 12.0197, Val Accuracy: 0.7952\n"
          ]
        }
      ]
    },
    {
      "cell_type": "markdown",
      "source": [
        "## Save the model results"
      ],
      "metadata": {
        "id": "vH3M2UyU9hng"
      }
    },
    {
      "cell_type": "code",
      "source": [
        "epochs = siamese_network.epochs\n",
        "dataset = siamese_network.dataset\n",
        "loss_fn = siamese_network.loss_function\n",
        "model_name = siamese_network.name\n",
        "lr = siamese_network.learning_rate\n",
        "\n",
        "model_path = f\"\"\"/content/drive/MyDrive/ULTRADATA/trained_models/name-{model_name}_lr-{lr}_epochs-{epochs}_dataset-{dataset}_loss-fn-{loss_fn}.pth\"\"\"\n",
        "\n",
        "print(model_path)"
      ],
      "metadata": {
        "id": "FdbL-Vyq-o6U",
        "colab": {
          "base_uri": "https://localhost:8080/"
        },
        "outputId": "f23145c9-699a-4240-c355-81f1260a2505"
      },
      "execution_count": 23,
      "outputs": [
        {
          "output_type": "stream",
          "name": "stdout",
          "text": [
            "/content/drive/MyDrive/ULTRADATA/trained_models/name-EfficientNet_lr-0.0001_epochs-20_dataset-Motos_recortes_loss-fn-triplet_loss.pth\n"
          ]
        }
      ]
    },
    {
      "cell_type": "code",
      "source": [
        "torch.save(siamese_network.state_dict(), model_path)"
      ],
      "metadata": {
        "id": "8BwMOTWu9n2q"
      },
      "execution_count": 24,
      "outputs": []
    },
    {
      "cell_type": "code",
      "source": [],
      "metadata": {
        "id": "LFPUQGkTBBQJ"
      },
      "execution_count": null,
      "outputs": []
    }
  ]
}