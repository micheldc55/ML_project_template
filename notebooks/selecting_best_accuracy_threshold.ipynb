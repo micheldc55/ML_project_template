{
  "nbformat": 4,
  "nbformat_minor": 0,
  "metadata": {
    "colab": {
      "provenance": []
    },
    "kernelspec": {
      "name": "python3",
      "display_name": "Python 3"
    },
    "language_info": {
      "name": "python"
    },
    "accelerator": "GPU",
    "gpuClass": "standard"
  },
  "cells": [
    {
      "cell_type": "code",
      "execution_count": 1,
      "metadata": {
        "colab": {
          "base_uri": "https://localhost:8080/"
        },
        "id": "pZLJiBmzs4Yr",
        "outputId": "a2f6de94-71d2-4180-f9b1-07cc2fd3cb90"
      },
      "outputs": [
        {
          "output_type": "stream",
          "name": "stdout",
          "text": [
            "Looking in indexes: https://pypi.org/simple, https://us-python.pkg.dev/colab-wheels/public/simple/\n",
            "Collecting efficientnet_pytorch\n",
            "  Downloading efficientnet_pytorch-0.7.1.tar.gz (21 kB)\n",
            "  Preparing metadata (setup.py) ... \u001b[?25l\u001b[?25hdone\n",
            "Requirement already satisfied: torch in /usr/local/lib/python3.9/dist-packages (from efficientnet_pytorch) (2.0.0+cu118)\n",
            "Requirement already satisfied: jinja2 in /usr/local/lib/python3.9/dist-packages (from torch->efficientnet_pytorch) (3.1.2)\n",
            "Requirement already satisfied: typing-extensions in /usr/local/lib/python3.9/dist-packages (from torch->efficientnet_pytorch) (4.5.0)\n",
            "Requirement already satisfied: networkx in /usr/local/lib/python3.9/dist-packages (from torch->efficientnet_pytorch) (3.1)\n",
            "Requirement already satisfied: filelock in /usr/local/lib/python3.9/dist-packages (from torch->efficientnet_pytorch) (3.12.0)\n",
            "Requirement already satisfied: triton==2.0.0 in /usr/local/lib/python3.9/dist-packages (from torch->efficientnet_pytorch) (2.0.0)\n",
            "Requirement already satisfied: sympy in /usr/local/lib/python3.9/dist-packages (from torch->efficientnet_pytorch) (1.11.1)\n",
            "Requirement already satisfied: lit in /usr/local/lib/python3.9/dist-packages (from triton==2.0.0->torch->efficientnet_pytorch) (16.0.2)\n",
            "Requirement already satisfied: cmake in /usr/local/lib/python3.9/dist-packages (from triton==2.0.0->torch->efficientnet_pytorch) (3.25.2)\n",
            "Requirement already satisfied: MarkupSafe>=2.0 in /usr/local/lib/python3.9/dist-packages (from jinja2->torch->efficientnet_pytorch) (2.1.2)\n",
            "Requirement already satisfied: mpmath>=0.19 in /usr/local/lib/python3.9/dist-packages (from sympy->torch->efficientnet_pytorch) (1.3.0)\n",
            "Building wheels for collected packages: efficientnet_pytorch\n",
            "  Building wheel for efficientnet_pytorch (setup.py) ... \u001b[?25l\u001b[?25hdone\n",
            "  Created wheel for efficientnet_pytorch: filename=efficientnet_pytorch-0.7.1-py3-none-any.whl size=16444 sha256=adf9d5651975b4607e18d977639798684b77d170e58dd68edd26d452470f6617\n",
            "  Stored in directory: /root/.cache/pip/wheels/29/16/24/752e89d88d333af39a288421e64d613b5f652918e39ef1f8e3\n",
            "Successfully built efficientnet_pytorch\n",
            "Installing collected packages: efficientnet_pytorch\n",
            "Successfully installed efficientnet_pytorch-0.7.1\n"
          ]
        }
      ],
      "source": [
        "!pip install efficientnet_pytorch"
      ]
    },
    {
      "cell_type": "code",
      "source": [
        "import os\n",
        "import random\n",
        "from torchvision import transforms\n",
        "from PIL import Image\n",
        "import torch\n",
        "from torch.utils.data import Dataset\n",
        "from torch.utils.data import DataLoader\n",
        "import torch.nn as nn\n",
        "import torch.optim as optim\n",
        "import torch.nn.init as init\n",
        "import matplotlib.pyplot as plt\n",
        "import numpy as np\n",
        "import pandas as pd\n",
        "from tqdm import tqdm\n",
        "from tqdm.auto import tqdm as tqdm_auto\n",
        "from sklearn.metrics import roc_auc_score, roc_curve\n",
        "from efficientnet_pytorch import EfficientNet\n",
        "from collections import Counter\n",
        "import itertools\n",
        "import copy"
      ],
      "metadata": {
        "id": "Fj-DIZWcs7sd"
      },
      "execution_count": 2,
      "outputs": []
    },
    {
      "cell_type": "code",
      "source": [
        "from google.colab import drive\n",
        "drive.mount('/content/drive')"
      ],
      "metadata": {
        "colab": {
          "base_uri": "https://localhost:8080/"
        },
        "id": "A1VUuSpbs9dI",
        "outputId": "f490c973-8b69-4a98-af80-a5e3e952c30a"
      },
      "execution_count": 3,
      "outputs": [
        {
          "output_type": "stream",
          "name": "stdout",
          "text": [
            "Mounted at /content/drive\n"
          ]
        }
      ]
    },
    {
      "cell_type": "code",
      "source": [
        "device = torch.device('cuda' if torch.cuda.is_available() else 'cpu')"
      ],
      "metadata": {
        "id": "-EESjoCks_Z1"
      },
      "execution_count": 4,
      "outputs": []
    },
    {
      "cell_type": "markdown",
      "source": [
        "## Dataset-related"
      ],
      "metadata": {
        "id": "qnDwh51HywuL"
      }
    },
    {
      "cell_type": "code",
      "source": [
        "class BalancedTripletDataset(Dataset):\n",
        "    def __init__(self, root_dir, transform=None):\n",
        "        self.root_dir = root_dir\n",
        "        self.transform = transform\n",
        "        self.subjects = [subj for subj in os.listdir(root_dir) if os.path.isdir(os.path.join(root_dir, subj))]\n",
        "        self.subject_to_images = {subject: os.listdir(os.path.join(root_dir, subject)) for subject in self.subjects}\n",
        "        self.triplets = self.generate_triplets()\n",
        "\n",
        "    def generate_triplets(self):\n",
        "        triplets = []\n",
        "        for subject in self.subjects:\n",
        "            subject_images = self.subject_to_images[subject]\n",
        "            positive_pairs = list(itertools.combinations(subject_images, 2))\n",
        "            for anchor_img, positive_img in positive_pairs:\n",
        "                anchor_image_path = os.path.join(self.root_dir, subject, anchor_img)\n",
        "                positive_image_path = os.path.join(self.root_dir, subject, positive_img)\n",
        "                triplets.append((anchor_image_path, positive_image_path, subject))\n",
        "        return triplets\n",
        "\n",
        "    def __len__(self):\n",
        "        return len(self.triplets)\n",
        "\n",
        "    def __getitem__(self, index):\n",
        "        anchor_image_path, positive_image_path, anchor_subject = self.triplets[index]\n",
        "        negative_image_path = self.get_negative_image(anchor_subject)\n",
        "\n",
        "        anchor_image = Image.open(anchor_image_path).convert(\"RGB\")\n",
        "        positive_image = Image.open(positive_image_path).convert(\"RGB\")\n",
        "        negative_image = Image.open(negative_image_path).convert(\"RGB\")\n",
        "\n",
        "        if self.transform:\n",
        "            anchor_image = self.transform(anchor_image)\n",
        "            positive_image = self.transform(positive_image)\n",
        "            negative_image = self.transform(negative_image)\n",
        "\n",
        "        return anchor_image, positive_image, negative_image\n",
        "\n",
        "    def get_negative_image(self, anchor_subject):\n",
        "        negative_subject = random.choice([subj for subj in self.subjects if subj != anchor_subject])\n",
        "        negative_image_name = random.choice(self.subject_to_images[negative_subject])\n",
        "        negative_image_path = os.path.join(self.root_dir, negative_subject, negative_image_name)\n",
        "        return negative_image_path"
      ],
      "metadata": {
        "id": "ft1iNUuwyhVA"
      },
      "execution_count": 5,
      "outputs": []
    },
    {
      "cell_type": "code",
      "source": [
        "img_size = 224\n",
        "\n",
        "train_imgs_path = \"/content/drive/MyDrive/ULTRADATA/Motos_reencuadradas/Train\"\n",
        "test_imgs_path  = \"/content/drive/MyDrive/ULTRADATA/Motos_reencuadradas/Test\"\n",
        "\n",
        "transform_train = transforms.Compose([\n",
        "  transforms.Resize((img_size, img_size)),\n",
        "  transforms.RandomHorizontalFlip(),\n",
        "  transforms.RandomRotation(15),\n",
        "  transforms.ToTensor(),\n",
        "  transforms.Normalize(mean=[0.485, 0.456, 0.406], std=[0.229, 0.224, 0.225])\n",
        "  # , transforms.ColorJitter(brightness=0.1, contrast=0.1, saturation=0.1, hue=0.1)\n",
        "])\n",
        "\n",
        "transform_valid = transforms.Compose([\n",
        "    transforms.Resize((img_size, img_size)), # transforms.Resize((224, 224)),\n",
        "    transforms.ToTensor(),\n",
        "    transforms.Normalize(mean=[0.485, 0.456, 0.406], std=[0.229, 0.224, 0.225]),\n",
        "])\n",
        "\n",
        "\n",
        "siamese_train_dataset = BalancedTripletDataset(root_dir=train_imgs_path, transform=transform_train)\n",
        "siamese_test_dataset = BalancedTripletDataset(root_dir=test_imgs_path, transform=transform_valid)"
      ],
      "metadata": {
        "id": "NsIP1st3yibO"
      },
      "execution_count": 6,
      "outputs": []
    },
    {
      "cell_type": "code",
      "source": [
        "batch_size = 32\n",
        "shuffle = True\n",
        "num_workers = 2\n",
        "\n",
        "siamese_train_dataloader = DataLoader(siamese_train_dataset, batch_size=batch_size, shuffle=shuffle, num_workers=num_workers)\n",
        "siamese_val_dataloader   = DataLoader(siamese_test_dataset, batch_size=batch_size, shuffle=shuffle, num_workers=num_workers)"
      ],
      "metadata": {
        "id": "zzOyhYBNt-ZT"
      },
      "execution_count": 7,
      "outputs": []
    },
    {
      "cell_type": "markdown",
      "source": [
        "## Model-related"
      ],
      "metadata": {
        "id": "55C6WbTRy0dM"
      }
    },
    {
      "cell_type": "code",
      "source": [
        "def count_trainable_parameters(model):\n",
        "    return sum(p.numel() for p in model.parameters() if p.requires_grad)\n",
        "\n",
        "def unfreeze_layers(model, num_layers_to_unfreeze):\n",
        "    ct = 0\n",
        "    children_list = list(model.children())\n",
        "    for child in reversed(children_list):\n",
        "        ct += 1\n",
        "        if ct <= num_layers_to_unfreeze:\n",
        "            for param in child.parameters():\n",
        "                param.requires_grad = True\n",
        "        else:\n",
        "            break"
      ],
      "metadata": {
        "id": "HwVNy4w6uEqI"
      },
      "execution_count": 8,
      "outputs": []
    },
    {
      "cell_type": "code",
      "source": [
        "class EfficientNetFeatureExtractor(nn.Module):\n",
        "    def __init__(self, model_name='efficientnet-b0', pretrained=True):\n",
        "        super(EfficientNetFeatureExtractor, self).__init__()\n",
        "        self.efficient_net = EfficientNet.from_pretrained(model_name) if pretrained else EfficientNet.from_name(model_name)\n",
        "\n",
        "        # Get the number of output features from the EfficientNet model\n",
        "        num_output_features = self.efficient_net._fc.in_features\n",
        "\n",
        "        # Remove the classification head to use it as a feature extractor\n",
        "        self.efficient_net._fc = nn.Identity()\n",
        "\n",
        "        # Define the fully connected layer with the appropriate input size\n",
        "        self.fc = nn.Linear(num_output_features, 256)  # 128\n",
        "\n",
        "        # Add a normalization layer\n",
        "        self.norm = nn.BatchNorm1d(256)  # 128\n",
        "\n",
        "        # Freeze the pre-trained EfficientNet model parameters\n",
        "        for param in self.efficient_net.parameters():\n",
        "            param.requires_grad = False\n",
        "\n",
        "    def forward(self, x):\n",
        "        x = self.efficient_net(x)\n",
        "        x = self.fc(x)\n",
        "        x = self.norm(x)\n",
        "        return x\n",
        "\n",
        "class SiameseNetwork(nn.Module):\n",
        "    def __init__(self, feature_extractor, model_name, init_method, batch_norm, learning_rate, epochs, dataset, loss_function, accuracy_threshold, img_size):\n",
        "        super(SiameseNetwork, self).__init__()\n",
        "        self.feature_extractor = feature_extractor\n",
        "\n",
        "        # Define parameters for saving:\n",
        "        self.name = model_name\n",
        "        self.init_method = init_method\n",
        "        self.batch_norm = batch_norm\n",
        "        self.learning_rate = learning_rate\n",
        "        self.epochs = epochs\n",
        "        self.dataset = dataset\n",
        "        self.loss_function = loss_function\n",
        "        self.img_size = img_size\n",
        "\n",
        "    def forward(self, anchor, positive, negative):\n",
        "        output1 = self.feature_extractor(anchor)\n",
        "        output2 = self.feature_extractor(positive)\n",
        "        output3 = self.feature_extractor(negative)\n",
        "        return output1, output2, output3\n",
        "\n",
        "    def compare_images(self, preprocessed_image1, preprocessed_image2, threshold):\n",
        "        self.eval()  # Set the model to evaluation mode\n",
        "\n",
        "        with torch.no_grad():\n",
        "            # Extract the feature vectors for the two images\n",
        "            feature_vector1 = self.feature_extractor(preprocessed_image1)\n",
        "            feature_vector2 = self.feature_extractor(preprocessed_image2)\n",
        "\n",
        "            # Calculate the similarity between the feature vectors\n",
        "            similarity = torch.norm(feature_vector1 - feature_vector2).item()\n",
        "\n",
        "        # Compare the similarity to the threshold and return the result\n",
        "        return similarity <= threshold # <= threshold   # Add for returning a True/False\n",
        "\n",
        "feature_extractor = EfficientNetFeatureExtractor(model_name='efficientnet-b0', pretrained=True)\n",
        "\n",
        "siamese_network = SiameseNetwork(\n",
        "    feature_extractor=feature_extractor, \n",
        "    model_name=\"EfficientNet\", \n",
        "    init_method=None, \n",
        "    batch_norm=None, \n",
        "    learning_rate=1e-4, \n",
        "    epochs=20, \n",
        "    dataset=\"Motos_recortes\", \n",
        "    loss_function=\"triplet_loss\", \n",
        "    accuracy_threshold=0.5, \n",
        "    img_size=img_size\n",
        ")\n",
        "\n",
        "siamese_network.to(device)\n",
        "\n",
        "n_params = count_trainable_parameters(siamese_network)\n",
        "print(f\"Model's trainable parameters: {n_params}\")"
      ],
      "metadata": {
        "colab": {
          "base_uri": "https://localhost:8080/"
        },
        "id": "kdYVj3V9tBr0",
        "outputId": "6308da8f-b2d8-4787-c62a-54818e789e88"
      },
      "execution_count": 9,
      "outputs": [
        {
          "output_type": "stream",
          "name": "stderr",
          "text": [
            "Downloading: \"https://github.com/lukemelas/EfficientNet-PyTorch/releases/download/1.0/efficientnet-b0-355c32eb.pth\" to /root/.cache/torch/hub/checkpoints/efficientnet-b0-355c32eb.pth\n",
            "100%|██████████| 20.4M/20.4M [00:00<00:00, 158MB/s]\n"
          ]
        },
        {
          "output_type": "stream",
          "name": "stdout",
          "text": [
            "Loaded pretrained weights for efficientnet-b0\n",
            "Model's trainable parameters: 328448\n"
          ]
        }
      ]
    },
    {
      "cell_type": "markdown",
      "source": [
        "## Selecting best accuracy"
      ],
      "metadata": {
        "id": "A7kN5ffh1eJH"
      }
    },
    {
      "cell_type": "code",
      "source": [
        "best_model = \"/content/drive/MyDrive/ULTRADATA/trained_models/name-EfficientNet_lr-0.0001_valid-acc-92,0_train-acc-96,0_epochs-20_dataset-Motos_recortes_loss-fn-triplet_loss.pth\"\n",
        "\n",
        "best_model_state_dict = torch.load(best_model, map_location=torch.device('cpu'))\n",
        "\n",
        "siamese_network.load_state_dict(best_model_state_dict)"
      ],
      "metadata": {
        "colab": {
          "base_uri": "https://localhost:8080/"
        },
        "id": "N4N_OD6Xt7Kg",
        "outputId": "0c7678f1-d199-4276-f03f-3beb688e600e"
      },
      "execution_count": 10,
      "outputs": [
        {
          "output_type": "execute_result",
          "data": {
            "text/plain": [
              "<All keys matched successfully>"
            ]
          },
          "metadata": {},
          "execution_count": 10
        }
      ]
    },
    {
      "cell_type": "code",
      "source": [
        "def calculate_best_accuracy_threshold(model, dataloader):\n",
        "    # Set the model to evaluation mode\n",
        "    model.eval()\n",
        "\n",
        "    # Initialize two lists to store distances\n",
        "    positive_distances = []\n",
        "    negative_distances = []\n",
        "\n",
        "    # Calculate distances\n",
        "    with torch.inference_mode():\n",
        "        for idx, batch in enumerate(dataloader):\n",
        "            anchor, positive, negative = batch\n",
        "            anchor, positive, negative = anchor.to(device), positive.to(device), negative.to(device)  # Move tensors to GPU if necessary\n",
        "\n",
        "            # Get embeddings\n",
        "            anchor_embedding, positive_embedding, negative_embedding = model(anchor, positive, negative)\n",
        "\n",
        "            # Calculate positive and negative distances\n",
        "            positive_distance = torch.norm(anchor_embedding - positive_embedding, dim=1)\n",
        "            negative_distance = torch.norm(anchor_embedding - negative_embedding, dim=1)\n",
        "\n",
        "            positive_distances.extend(positive_distance.cpu().numpy())\n",
        "            negative_distances.extend(negative_distance.cpu().numpy())\n",
        "\n",
        "            print(idx)\n",
        "\n",
        "    # Create true labels and predicted distances\n",
        "    true_labels = [1] * len(positive_distances) + [0] * len(negative_distances)\n",
        "    predicted_distances = positive_distances + negative_distances\n",
        "\n",
        "    # Calculate ROC curve\n",
        "    fpr, tpr, thresholds = roc_curve(true_labels, [-dist for dist in predicted_distances])\n",
        "\n",
        "    # Find the optimal threshold\n",
        "    optimal_idx = np.argmax(tpr - fpr)\n",
        "    optimal_threshold = thresholds[optimal_idx]\n",
        "\n",
        "    return optimal_threshold, fpr, tpr, thresholds, true_labels, predicted_distances\n",
        "\n",
        "# Use the function with your model and dataloader\n",
        "optimal_threshold, fpr, tpr, thresholds, true_labels, predicted_distances = calculate_best_accuracy_threshold(siamese_network, siamese_train_dataloader)"
      ],
      "metadata": {
        "colab": {
          "base_uri": "https://localhost:8080/"
        },
        "id": "Dy52MhSbxAlM",
        "outputId": "9e044f5c-dddc-42d7-b586-d94a31704be2"
      },
      "execution_count": 11,
      "outputs": [
        {
          "output_type": "stream",
          "name": "stdout",
          "text": [
            "0\n",
            "1\n",
            "2\n",
            "3\n",
            "4\n",
            "5\n",
            "6\n",
            "7\n",
            "8\n",
            "9\n",
            "10\n",
            "11\n",
            "12\n",
            "13\n",
            "14\n",
            "15\n",
            "16\n",
            "17\n",
            "18\n",
            "19\n",
            "20\n",
            "21\n",
            "22\n",
            "23\n",
            "24\n",
            "25\n",
            "26\n",
            "27\n",
            "28\n",
            "29\n",
            "30\n",
            "31\n",
            "32\n",
            "33\n",
            "34\n",
            "35\n",
            "36\n",
            "37\n",
            "38\n",
            "39\n",
            "40\n",
            "41\n",
            "42\n",
            "43\n",
            "44\n",
            "45\n",
            "46\n",
            "47\n",
            "48\n",
            "49\n",
            "50\n",
            "51\n",
            "52\n",
            "53\n",
            "54\n",
            "55\n",
            "56\n",
            "57\n",
            "58\n",
            "59\n",
            "60\n",
            "61\n",
            "62\n",
            "63\n",
            "64\n",
            "65\n"
          ]
        }
      ]
    },
    {
      "cell_type": "code",
      "source": [
        "optimal_threshold"
      ],
      "metadata": {
        "colab": {
          "base_uri": "https://localhost:8080/"
        },
        "id": "CcjW9v711jet",
        "outputId": "2352e1dd-25c4-48e6-d5d6-757c66133d36"
      },
      "execution_count": 12,
      "outputs": [
        {
          "output_type": "execute_result",
          "data": {
            "text/plain": [
              "-17.108862"
            ]
          },
          "metadata": {},
          "execution_count": 12
        }
      ]
    },
    {
      "cell_type": "code",
      "source": [
        "predictions = predicted_distances < -optimal_threshold\n",
        "predictions.astype(np.int)\n",
        "\n",
        "(predictions == true_labels).mean()"
      ],
      "metadata": {
        "colab": {
          "base_uri": "https://localhost:8080/"
        },
        "id": "sCfxZIpv9W63",
        "outputId": "26d30e18-e164-40ea-97be-a572c87a12a6"
      },
      "execution_count": 13,
      "outputs": [
        {
          "output_type": "stream",
          "name": "stderr",
          "text": [
            "<ipython-input-13-0f24797b46eb>:2: DeprecationWarning: `np.int` is a deprecated alias for the builtin `int`. To silence this warning, use `int` by itself. Doing this will not modify any behavior and is safe. When replacing `np.int`, you may wish to use e.g. `np.int64` or `np.int32` to specify the precision. If you wish to review your current use, check the release note link for additional information.\n",
            "Deprecated in NumPy 1.20; for more details and guidance: https://numpy.org/devdocs/release/1.20.0-notes.html#deprecations\n",
            "  predictions.astype(np.int)\n"
          ]
        },
        {
          "output_type": "execute_result",
          "data": {
            "text/plain": [
              "0.8955861414333175"
            ]
          },
          "metadata": {},
          "execution_count": 13
        }
      ]
    },
    {
      "cell_type": "code",
      "source": [
        "df = pd.DataFrame({\"Predicted Distances\": predicted_distances, \"Labels\": true_labels, \"predictions\": predictions.astype(int)})\n",
        "\n",
        "df[df[\"Labels\"] != df[\"predictions\"]]"
      ],
      "metadata": {
        "colab": {
          "base_uri": "https://localhost:8080/",
          "height": 424
        },
        "id": "NL0GF-Lu-48W",
        "outputId": "6100149b-33bd-4895-996f-2300e943c71f"
      },
      "execution_count": 14,
      "outputs": [
        {
          "output_type": "execute_result",
          "data": {
            "text/plain": [
              "      Predicted Distances  Labels  predictions\n",
              "32              18.595259       1            0\n",
              "40              18.192444       1            0\n",
              "50              17.348272       1            0\n",
              "68              17.656647       1            0\n",
              "70              17.674101       1            0\n",
              "...                   ...     ...          ...\n",
              "4189            16.602791       0            1\n",
              "4204            11.893538       0            1\n",
              "4207            16.542631       0            1\n",
              "4210            15.125884       0            1\n",
              "4212            15.768634       0            1\n",
              "\n",
              "[440 rows x 3 columns]"
            ],
            "text/html": [
              "\n",
              "  <div id=\"df-7b73a73a-af33-4617-be69-ae884a827f5a\">\n",
              "    <div class=\"colab-df-container\">\n",
              "      <div>\n",
              "<style scoped>\n",
              "    .dataframe tbody tr th:only-of-type {\n",
              "        vertical-align: middle;\n",
              "    }\n",
              "\n",
              "    .dataframe tbody tr th {\n",
              "        vertical-align: top;\n",
              "    }\n",
              "\n",
              "    .dataframe thead th {\n",
              "        text-align: right;\n",
              "    }\n",
              "</style>\n",
              "<table border=\"1\" class=\"dataframe\">\n",
              "  <thead>\n",
              "    <tr style=\"text-align: right;\">\n",
              "      <th></th>\n",
              "      <th>Predicted Distances</th>\n",
              "      <th>Labels</th>\n",
              "      <th>predictions</th>\n",
              "    </tr>\n",
              "  </thead>\n",
              "  <tbody>\n",
              "    <tr>\n",
              "      <th>32</th>\n",
              "      <td>18.595259</td>\n",
              "      <td>1</td>\n",
              "      <td>0</td>\n",
              "    </tr>\n",
              "    <tr>\n",
              "      <th>40</th>\n",
              "      <td>18.192444</td>\n",
              "      <td>1</td>\n",
              "      <td>0</td>\n",
              "    </tr>\n",
              "    <tr>\n",
              "      <th>50</th>\n",
              "      <td>17.348272</td>\n",
              "      <td>1</td>\n",
              "      <td>0</td>\n",
              "    </tr>\n",
              "    <tr>\n",
              "      <th>68</th>\n",
              "      <td>17.656647</td>\n",
              "      <td>1</td>\n",
              "      <td>0</td>\n",
              "    </tr>\n",
              "    <tr>\n",
              "      <th>70</th>\n",
              "      <td>17.674101</td>\n",
              "      <td>1</td>\n",
              "      <td>0</td>\n",
              "    </tr>\n",
              "    <tr>\n",
              "      <th>...</th>\n",
              "      <td>...</td>\n",
              "      <td>...</td>\n",
              "      <td>...</td>\n",
              "    </tr>\n",
              "    <tr>\n",
              "      <th>4189</th>\n",
              "      <td>16.602791</td>\n",
              "      <td>0</td>\n",
              "      <td>1</td>\n",
              "    </tr>\n",
              "    <tr>\n",
              "      <th>4204</th>\n",
              "      <td>11.893538</td>\n",
              "      <td>0</td>\n",
              "      <td>1</td>\n",
              "    </tr>\n",
              "    <tr>\n",
              "      <th>4207</th>\n",
              "      <td>16.542631</td>\n",
              "      <td>0</td>\n",
              "      <td>1</td>\n",
              "    </tr>\n",
              "    <tr>\n",
              "      <th>4210</th>\n",
              "      <td>15.125884</td>\n",
              "      <td>0</td>\n",
              "      <td>1</td>\n",
              "    </tr>\n",
              "    <tr>\n",
              "      <th>4212</th>\n",
              "      <td>15.768634</td>\n",
              "      <td>0</td>\n",
              "      <td>1</td>\n",
              "    </tr>\n",
              "  </tbody>\n",
              "</table>\n",
              "<p>440 rows × 3 columns</p>\n",
              "</div>\n",
              "      <button class=\"colab-df-convert\" onclick=\"convertToInteractive('df-7b73a73a-af33-4617-be69-ae884a827f5a')\"\n",
              "              title=\"Convert this dataframe to an interactive table.\"\n",
              "              style=\"display:none;\">\n",
              "        \n",
              "  <svg xmlns=\"http://www.w3.org/2000/svg\" height=\"24px\"viewBox=\"0 0 24 24\"\n",
              "       width=\"24px\">\n",
              "    <path d=\"M0 0h24v24H0V0z\" fill=\"none\"/>\n",
              "    <path d=\"M18.56 5.44l.94 2.06.94-2.06 2.06-.94-2.06-.94-.94-2.06-.94 2.06-2.06.94zm-11 1L8.5 8.5l.94-2.06 2.06-.94-2.06-.94L8.5 2.5l-.94 2.06-2.06.94zm10 10l.94 2.06.94-2.06 2.06-.94-2.06-.94-.94-2.06-.94 2.06-2.06.94z\"/><path d=\"M17.41 7.96l-1.37-1.37c-.4-.4-.92-.59-1.43-.59-.52 0-1.04.2-1.43.59L10.3 9.45l-7.72 7.72c-.78.78-.78 2.05 0 2.83L4 21.41c.39.39.9.59 1.41.59.51 0 1.02-.2 1.41-.59l7.78-7.78 2.81-2.81c.8-.78.8-2.07 0-2.86zM5.41 20L4 18.59l7.72-7.72 1.47 1.35L5.41 20z\"/>\n",
              "  </svg>\n",
              "      </button>\n",
              "      \n",
              "  <style>\n",
              "    .colab-df-container {\n",
              "      display:flex;\n",
              "      flex-wrap:wrap;\n",
              "      gap: 12px;\n",
              "    }\n",
              "\n",
              "    .colab-df-convert {\n",
              "      background-color: #E8F0FE;\n",
              "      border: none;\n",
              "      border-radius: 50%;\n",
              "      cursor: pointer;\n",
              "      display: none;\n",
              "      fill: #1967D2;\n",
              "      height: 32px;\n",
              "      padding: 0 0 0 0;\n",
              "      width: 32px;\n",
              "    }\n",
              "\n",
              "    .colab-df-convert:hover {\n",
              "      background-color: #E2EBFA;\n",
              "      box-shadow: 0px 1px 2px rgba(60, 64, 67, 0.3), 0px 1px 3px 1px rgba(60, 64, 67, 0.15);\n",
              "      fill: #174EA6;\n",
              "    }\n",
              "\n",
              "    [theme=dark] .colab-df-convert {\n",
              "      background-color: #3B4455;\n",
              "      fill: #D2E3FC;\n",
              "    }\n",
              "\n",
              "    [theme=dark] .colab-df-convert:hover {\n",
              "      background-color: #434B5C;\n",
              "      box-shadow: 0px 1px 3px 1px rgba(0, 0, 0, 0.15);\n",
              "      filter: drop-shadow(0px 1px 2px rgba(0, 0, 0, 0.3));\n",
              "      fill: #FFFFFF;\n",
              "    }\n",
              "  </style>\n",
              "\n",
              "      <script>\n",
              "        const buttonEl =\n",
              "          document.querySelector('#df-7b73a73a-af33-4617-be69-ae884a827f5a button.colab-df-convert');\n",
              "        buttonEl.style.display =\n",
              "          google.colab.kernel.accessAllowed ? 'block' : 'none';\n",
              "\n",
              "        async function convertToInteractive(key) {\n",
              "          const element = document.querySelector('#df-7b73a73a-af33-4617-be69-ae884a827f5a');\n",
              "          const dataTable =\n",
              "            await google.colab.kernel.invokeFunction('convertToInteractive',\n",
              "                                                     [key], {});\n",
              "          if (!dataTable) return;\n",
              "\n",
              "          const docLinkHtml = 'Like what you see? Visit the ' +\n",
              "            '<a target=\"_blank\" href=https://colab.research.google.com/notebooks/data_table.ipynb>data table notebook</a>'\n",
              "            + ' to learn more about interactive tables.';\n",
              "          element.innerHTML = '';\n",
              "          dataTable['output_type'] = 'display_data';\n",
              "          await google.colab.output.renderOutput(dataTable, element);\n",
              "          const docLink = document.createElement('div');\n",
              "          docLink.innerHTML = docLinkHtml;\n",
              "          element.appendChild(docLink);\n",
              "        }\n",
              "      </script>\n",
              "    </div>\n",
              "  </div>\n",
              "  "
            ]
          },
          "metadata": {},
          "execution_count": 14
        }
      ]
    },
    {
      "cell_type": "code",
      "source": [
        "df[df[\"Labels\"] == df[\"predictions\"]]"
      ],
      "metadata": {
        "colab": {
          "base_uri": "https://localhost:8080/",
          "height": 424
        },
        "id": "ILq_5mPR_JSl",
        "outputId": "13be677e-7c12-479f-e2c4-56af51cd94d4"
      },
      "execution_count": 15,
      "outputs": [
        {
          "output_type": "execute_result",
          "data": {
            "text/plain": [
              "      Predicted Distances  Labels  predictions\n",
              "0               15.209055       1            1\n",
              "1               16.455830       1            1\n",
              "2               11.008506       1            1\n",
              "3               13.422953       1            1\n",
              "4               13.665083       1            1\n",
              "...                   ...     ...          ...\n",
              "4206            18.952648       0            0\n",
              "4208            20.835539       0            0\n",
              "4209            21.954981       0            0\n",
              "4211            27.520887       0            0\n",
              "4213            18.410540       0            0\n",
              "\n",
              "[3774 rows x 3 columns]"
            ],
            "text/html": [
              "\n",
              "  <div id=\"df-4ebfd00e-55d8-4f6f-9d57-782926296766\">\n",
              "    <div class=\"colab-df-container\">\n",
              "      <div>\n",
              "<style scoped>\n",
              "    .dataframe tbody tr th:only-of-type {\n",
              "        vertical-align: middle;\n",
              "    }\n",
              "\n",
              "    .dataframe tbody tr th {\n",
              "        vertical-align: top;\n",
              "    }\n",
              "\n",
              "    .dataframe thead th {\n",
              "        text-align: right;\n",
              "    }\n",
              "</style>\n",
              "<table border=\"1\" class=\"dataframe\">\n",
              "  <thead>\n",
              "    <tr style=\"text-align: right;\">\n",
              "      <th></th>\n",
              "      <th>Predicted Distances</th>\n",
              "      <th>Labels</th>\n",
              "      <th>predictions</th>\n",
              "    </tr>\n",
              "  </thead>\n",
              "  <tbody>\n",
              "    <tr>\n",
              "      <th>0</th>\n",
              "      <td>15.209055</td>\n",
              "      <td>1</td>\n",
              "      <td>1</td>\n",
              "    </tr>\n",
              "    <tr>\n",
              "      <th>1</th>\n",
              "      <td>16.455830</td>\n",
              "      <td>1</td>\n",
              "      <td>1</td>\n",
              "    </tr>\n",
              "    <tr>\n",
              "      <th>2</th>\n",
              "      <td>11.008506</td>\n",
              "      <td>1</td>\n",
              "      <td>1</td>\n",
              "    </tr>\n",
              "    <tr>\n",
              "      <th>3</th>\n",
              "      <td>13.422953</td>\n",
              "      <td>1</td>\n",
              "      <td>1</td>\n",
              "    </tr>\n",
              "    <tr>\n",
              "      <th>4</th>\n",
              "      <td>13.665083</td>\n",
              "      <td>1</td>\n",
              "      <td>1</td>\n",
              "    </tr>\n",
              "    <tr>\n",
              "      <th>...</th>\n",
              "      <td>...</td>\n",
              "      <td>...</td>\n",
              "      <td>...</td>\n",
              "    </tr>\n",
              "    <tr>\n",
              "      <th>4206</th>\n",
              "      <td>18.952648</td>\n",
              "      <td>0</td>\n",
              "      <td>0</td>\n",
              "    </tr>\n",
              "    <tr>\n",
              "      <th>4208</th>\n",
              "      <td>20.835539</td>\n",
              "      <td>0</td>\n",
              "      <td>0</td>\n",
              "    </tr>\n",
              "    <tr>\n",
              "      <th>4209</th>\n",
              "      <td>21.954981</td>\n",
              "      <td>0</td>\n",
              "      <td>0</td>\n",
              "    </tr>\n",
              "    <tr>\n",
              "      <th>4211</th>\n",
              "      <td>27.520887</td>\n",
              "      <td>0</td>\n",
              "      <td>0</td>\n",
              "    </tr>\n",
              "    <tr>\n",
              "      <th>4213</th>\n",
              "      <td>18.410540</td>\n",
              "      <td>0</td>\n",
              "      <td>0</td>\n",
              "    </tr>\n",
              "  </tbody>\n",
              "</table>\n",
              "<p>3774 rows × 3 columns</p>\n",
              "</div>\n",
              "      <button class=\"colab-df-convert\" onclick=\"convertToInteractive('df-4ebfd00e-55d8-4f6f-9d57-782926296766')\"\n",
              "              title=\"Convert this dataframe to an interactive table.\"\n",
              "              style=\"display:none;\">\n",
              "        \n",
              "  <svg xmlns=\"http://www.w3.org/2000/svg\" height=\"24px\"viewBox=\"0 0 24 24\"\n",
              "       width=\"24px\">\n",
              "    <path d=\"M0 0h24v24H0V0z\" fill=\"none\"/>\n",
              "    <path d=\"M18.56 5.44l.94 2.06.94-2.06 2.06-.94-2.06-.94-.94-2.06-.94 2.06-2.06.94zm-11 1L8.5 8.5l.94-2.06 2.06-.94-2.06-.94L8.5 2.5l-.94 2.06-2.06.94zm10 10l.94 2.06.94-2.06 2.06-.94-2.06-.94-.94-2.06-.94 2.06-2.06.94z\"/><path d=\"M17.41 7.96l-1.37-1.37c-.4-.4-.92-.59-1.43-.59-.52 0-1.04.2-1.43.59L10.3 9.45l-7.72 7.72c-.78.78-.78 2.05 0 2.83L4 21.41c.39.39.9.59 1.41.59.51 0 1.02-.2 1.41-.59l7.78-7.78 2.81-2.81c.8-.78.8-2.07 0-2.86zM5.41 20L4 18.59l7.72-7.72 1.47 1.35L5.41 20z\"/>\n",
              "  </svg>\n",
              "      </button>\n",
              "      \n",
              "  <style>\n",
              "    .colab-df-container {\n",
              "      display:flex;\n",
              "      flex-wrap:wrap;\n",
              "      gap: 12px;\n",
              "    }\n",
              "\n",
              "    .colab-df-convert {\n",
              "      background-color: #E8F0FE;\n",
              "      border: none;\n",
              "      border-radius: 50%;\n",
              "      cursor: pointer;\n",
              "      display: none;\n",
              "      fill: #1967D2;\n",
              "      height: 32px;\n",
              "      padding: 0 0 0 0;\n",
              "      width: 32px;\n",
              "    }\n",
              "\n",
              "    .colab-df-convert:hover {\n",
              "      background-color: #E2EBFA;\n",
              "      box-shadow: 0px 1px 2px rgba(60, 64, 67, 0.3), 0px 1px 3px 1px rgba(60, 64, 67, 0.15);\n",
              "      fill: #174EA6;\n",
              "    }\n",
              "\n",
              "    [theme=dark] .colab-df-convert {\n",
              "      background-color: #3B4455;\n",
              "      fill: #D2E3FC;\n",
              "    }\n",
              "\n",
              "    [theme=dark] .colab-df-convert:hover {\n",
              "      background-color: #434B5C;\n",
              "      box-shadow: 0px 1px 3px 1px rgba(0, 0, 0, 0.15);\n",
              "      filter: drop-shadow(0px 1px 2px rgba(0, 0, 0, 0.3));\n",
              "      fill: #FFFFFF;\n",
              "    }\n",
              "  </style>\n",
              "\n",
              "      <script>\n",
              "        const buttonEl =\n",
              "          document.querySelector('#df-4ebfd00e-55d8-4f6f-9d57-782926296766 button.colab-df-convert');\n",
              "        buttonEl.style.display =\n",
              "          google.colab.kernel.accessAllowed ? 'block' : 'none';\n",
              "\n",
              "        async function convertToInteractive(key) {\n",
              "          const element = document.querySelector('#df-4ebfd00e-55d8-4f6f-9d57-782926296766');\n",
              "          const dataTable =\n",
              "            await google.colab.kernel.invokeFunction('convertToInteractive',\n",
              "                                                     [key], {});\n",
              "          if (!dataTable) return;\n",
              "\n",
              "          const docLinkHtml = 'Like what you see? Visit the ' +\n",
              "            '<a target=\"_blank\" href=https://colab.research.google.com/notebooks/data_table.ipynb>data table notebook</a>'\n",
              "            + ' to learn more about interactive tables.';\n",
              "          element.innerHTML = '';\n",
              "          dataTable['output_type'] = 'display_data';\n",
              "          await google.colab.output.renderOutput(dataTable, element);\n",
              "          const docLink = document.createElement('div');\n",
              "          docLink.innerHTML = docLinkHtml;\n",
              "          element.appendChild(docLink);\n",
              "        }\n",
              "      </script>\n",
              "    </div>\n",
              "  </div>\n",
              "  "
            ]
          },
          "metadata": {},
          "execution_count": 15
        }
      ]
    },
    {
      "cell_type": "code",
      "source": [
        "1 - 447 / 3767"
      ],
      "metadata": {
        "colab": {
          "base_uri": "https://localhost:8080/"
        },
        "id": "a1sF5jTNTkCB",
        "outputId": "b343263d-eb50-4996-d857-0b559b9a8019"
      },
      "execution_count": 16,
      "outputs": [
        {
          "output_type": "execute_result",
          "data": {
            "text/plain": [
              "0.8813379346960446"
            ]
          },
          "metadata": {},
          "execution_count": 16
        }
      ]
    },
    {
      "cell_type": "code",
      "source": [],
      "metadata": {
        "id": "g6qMiqdqTmRd"
      },
      "execution_count": 16,
      "outputs": []
    }
  ]
}